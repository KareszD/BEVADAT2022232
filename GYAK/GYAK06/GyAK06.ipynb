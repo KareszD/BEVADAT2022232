{
 "cells": [
  {
   "cell_type": "code",
   "execution_count": 4,
   "metadata": {},
   "outputs": [
    {
     "ename": "TypeError",
     "evalue": "DecisionTreeClassifier.__init__() got an unexpected keyword argument 'min_sample_split'",
     "output_type": "error",
     "traceback": [
      "\u001b[1;31m---------------------------------------------------------------------------\u001b[0m",
      "\u001b[1;31mTypeError\u001b[0m                                 Traceback (most recent call last)",
      "Cell \u001b[1;32mIn[4], line 19\u001b[0m\n\u001b[0;32m     16\u001b[0m Y \u001b[39m=\u001b[39m data\u001b[39m.\u001b[39miloc[:,\u001b[39m-\u001b[39m\u001b[39m1\u001b[39m]\u001b[39m.\u001b[39mvalues\u001b[39m.\u001b[39mreshape(\u001b[39m-\u001b[39m\u001b[39m1\u001b[39m,\u001b[39m1\u001b[39m)\n\u001b[0;32m     17\u001b[0m X_train,X_test,Y_train,Y_test \u001b[39m=\u001b[39m train_test_split(X,Y,test_size\u001b[39m=\u001b[39m\u001b[39m.2\u001b[39m,random_state\u001b[39m=\u001b[39m\u001b[39m41\u001b[39m)\n\u001b[1;32m---> 19\u001b[0m classifier \u001b[39m=\u001b[39m DecisionTreeClassifier(min_sample_split\u001b[39m=\u001b[39;49m\u001b[39m3\u001b[39;49m,max_depth\u001b[39m=\u001b[39;49m\u001b[39m3\u001b[39;49m)\n\u001b[0;32m     20\u001b[0m classifier\u001b[39m.\u001b[39mfit(X_train,Y_train)\n\u001b[0;32m     22\u001b[0m Y_pred \u001b[39m=\u001b[39m classifier\u001b[39m.\u001b[39mpredict(X_test)\n",
      "\u001b[1;31mTypeError\u001b[0m: DecisionTreeClassifier.__init__() got an unexpected keyword argument 'min_sample_split'"
     ]
    }
   ],
   "source": [
    "import numpy as np\n",
    "import pandas as pd \n",
    "\n",
    "from sklearn.model_selection import train_test_split\n",
    "from sklearn.metrics import accuracy_score\n",
    "\n",
    "from DecisionTreeClassifier import DecisionTreeClassifier\n",
    "\n",
    "col_name = ['sepal_length','sepal_width','petal_length','petal_width']\n",
    "\n",
    "data = pd.read_csv('iris.csv',skiprows=1,header=None,names=col_name)\n",
    "\n",
    "data.head(10)\n",
    "\n",
    "X = data.iloc[:,:-1].values\n",
    "Y = data.iloc[:,-1].values.reshape(-1,1)\n",
    "X_train,X_test,Y_train,Y_test = train_test_split(X,Y,test_size=.2,random_state=41)\n",
    "\n",
    "classifier = DecisionTreeClassifier(min_sample_split=3,max_depth=3)\n",
    "classifier.fit(X_train,Y_train)\n",
    "\n",
    "Y_pred = classifier.predict(X_test)\n",
    "print(accuracy_score(Y_test,Y_pred))"
   ]
  }
 ],
 "metadata": {
  "kernelspec": {
   "display_name": "Python 3",
   "language": "python",
   "name": "python3"
  },
  "language_info": {
   "codemirror_mode": {
    "name": "ipython",
    "version": 3
   },
   "file_extension": ".py",
   "mimetype": "text/x-python",
   "name": "python",
   "nbconvert_exporter": "python",
   "pygments_lexer": "ipython3",
   "version": "3.10.3"
  },
  "orig_nbformat": 4
 },
 "nbformat": 4,
 "nbformat_minor": 2
}
